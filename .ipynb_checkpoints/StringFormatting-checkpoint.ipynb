{
 "cells": [
  {
   "cell_type": "markdown",
   "metadata": {},
   "source": [
    "# Lesson 11 : String Formatting"
   ]
  },
  {
   "cell_type": "markdown",
   "metadata": {},
   "source": [
    "Page : 114"
   ]
  },
  {
   "cell_type": "code",
   "execution_count": 4,
   "metadata": {},
   "outputs": [
    {
     "name": "stdout",
     "output_type": "stream",
     "text": [
      "Grenoble is the best city\n"
     ]
    }
   ],
   "source": [
    "city = ['Paris', 'Lyon', 'Bordeaux', 'Grenoble']\n",
    "print('{0[3]} is the best city'.format(city))"
   ]
  },
  {
   "cell_type": "code",
   "execution_count": 23,
   "metadata": {},
   "outputs": [
    {
     "name": "stdout",
     "output_type": "stream",
     "text": [
      "a A\n",
      "[-->a          -- A         <--]\n",
      "b B\n",
      "[-->b          -- B         <--]\n",
      "c C\n",
      "[-->c          -- C         <--]\n"
     ]
    }
   ],
   "source": [
    "lower_to_upper = {'a':'A', 'b':'B', 'c':'C'}\n",
    "for i,y in lower_to_upper.items():\n",
    "    print(i,y)\n",
    "    print('[-->{0:10} -- {1:10}<--]'.format(i,y))"
   ]
  },
  {
   "cell_type": "code",
   "execution_count": 19,
   "metadata": {},
   "outputs": [],
   "source": []
  },
  {
   "cell_type": "code",
   "execution_count": 20,
   "metadata": {},
   "outputs": [
    {
     "name": "stdout",
     "output_type": "stream",
     "text": [
      "     1 =       0b1        = 0x0001\n",
      "    25 =     0b11001      = 0x0019\n",
      "   458 =   0b111001010    = 0x01ca\n",
      "  7890 = 0b1111011010010  = 0x1ed2\n"
     ]
    }
   ],
   "source": [
    "the_way_i_want_it = '{0:6} = {0:>#16b} = {0:#06x}'\n",
    "\n",
    "for i in 1,25, 458, 7890:\n",
    "    print(the_way_i_want_it.format(i))"
   ]
  }
 ],
 "metadata": {
  "kernelspec": {
   "display_name": "Python 3",
   "language": "python",
   "name": "python3"
  },
  "language_info": {
   "codemirror_mode": {
    "name": "ipython",
    "version": 3
   },
   "file_extension": ".py",
   "mimetype": "text/x-python",
   "name": "python",
   "nbconvert_exporter": "python",
   "pygments_lexer": "ipython3",
   "version": "3.7.6"
  }
 },
 "nbformat": 4,
 "nbformat_minor": 4
}
