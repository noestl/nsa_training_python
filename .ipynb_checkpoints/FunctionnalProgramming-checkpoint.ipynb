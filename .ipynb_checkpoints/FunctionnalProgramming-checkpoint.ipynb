{
 "cells": [
  {
   "cell_type": "markdown",
   "metadata": {},
   "source": [
    "# Lesson 11 : Functoinnal Programming"
   ]
  },
  {
   "cell_type": "markdown",
   "metadata": {},
   "source": [
    "Page : 140"
   ]
  },
  {
   "cell_type": "code",
   "execution_count": 2,
   "metadata": {},
   "outputs": [
    {
     "name": "stdout",
     "output_type": "stream",
     "text": [
      "[6, 9, 9]\n"
     ]
    }
   ],
   "source": [
    "prenoms = ['Astrid', 'Gourmelle', 'Eglantine']\n",
    "\n",
    "prenoms_len = map(len, prenoms)\n",
    "print(list(prenoms_len))"
   ]
  },
  {
   "cell_type": "code",
   "execution_count": 3,
   "metadata": {},
   "outputs": [
    {
     "name": "stdout",
     "output_type": "stream",
     "text": [
      "[4, 16, 25]\n"
     ]
    }
   ],
   "source": [
    "numbers = [2, 4, 5]\n",
    "\n",
    "sq = map(lambda x : x * x, numbers)\n",
    "print(list(sq))"
   ]
  },
  {
   "cell_type": "code",
   "execution_count": 9,
   "metadata": {},
   "outputs": [
    {
     "name": "stdout",
     "output_type": "stream",
     "text": [
      "<class 'function'>\n",
      "16\n",
      "Err :  'str' object is not callable\n"
     ]
    }
   ],
   "source": [
    "try:\n",
    "    ima_function_variable = lambda x : x*x\n",
    "    print(type(ima_function_variable))\n",
    "    print(ima_function_variable(4))\n",
    "    ima_function_variable = 'text'\n",
    "    print(ima_function_variable(4))\n",
    "except Exception as e:\n",
    "    print('Err : ', e)\n"
   ]
  },
  {
   "cell_type": "code",
   "execution_count": 10,
   "metadata": {},
   "outputs": [],
   "source": [
    "import functools"
   ]
  },
  {
   "cell_type": "code",
   "execution_count": 11,
   "metadata": {},
   "outputs": [
    {
     "name": "stdout",
     "output_type": "stream",
     "text": [
      "10\n"
     ]
    }
   ],
   "source": [
    "sum = functools.reduce(lambda a, x : a + x, [0, 1, 2, 3, 4])\n",
    "print(sum)"
   ]
  },
  {
   "cell_type": "code",
   "execution_count": 50,
   "metadata": {},
   "outputs": [
    {
     "name": "stdout",
     "output_type": "stream",
     "text": [
      "5\n"
     ]
    }
   ],
   "source": [
    "def nth_fibonnaci(n):\n",
    "    if n < 1 :\n",
    "        return 0\n",
    "    elif n == 1 :\n",
    "        return 1\n",
    "    elif n == 2 :\n",
    "        return 1\n",
    "    else :\n",
    "        return nth_fibonnaci(n-2) + nth_fibonnaci(n-1)\n",
    "\n",
    "print(nth_fibonnaci(5)) "
   ]
  }
 ],
 "metadata": {
  "kernelspec": {
   "display_name": "Python 3",
   "language": "python",
   "name": "python3"
  },
  "language_info": {
   "codemirror_mode": {
    "name": "ipython",
    "version": 3
   },
   "file_extension": ".py",
   "mimetype": "text/x-python",
   "name": "python",
   "nbconvert_exporter": "python",
   "pygments_lexer": "ipython3",
   "version": "3.7.6"
  }
 },
 "nbformat": 4,
 "nbformat_minor": 4
}
