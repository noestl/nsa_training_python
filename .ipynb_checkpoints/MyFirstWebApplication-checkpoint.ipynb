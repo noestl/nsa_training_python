{
 "cells": [
  {
   "cell_type": "markdown",
   "metadata": {},
   "source": [
    "# My First WebApplication"
   ]
  },
  {
   "cell_type": "markdown",
   "metadata": {},
   "source": [
    "p 274"
   ]
  },
  {
   "cell_type": "code",
   "execution_count": 1,
   "metadata": {},
   "outputs": [],
   "source": [
    "def doubler(to_print):\n",
    "    return to_print*2"
   ]
  },
  {
   "cell_type": "code",
   "execution_count": 2,
   "metadata": {},
   "outputs": [
    {
     "data": {
      "text/plain": [
       "<function __main__.signer.<locals>.wrapper(to_print)>"
      ]
     },
     "execution_count": 2,
     "metadata": {},
     "output_type": "execute_result"
    }
   ],
   "source": [
    "def signer(f):\n",
    "    def wrapper(to_print):\n",
    "        return f(to_print) + \"something\"\n",
    "    return wrapper\n",
    "\n",
    "signer('a')"
   ]
  },
  {
   "cell_type": "code",
   "execution_count": 3,
   "metadata": {},
   "outputs": [
    {
     "data": {
      "text/plain": [
       "'test1test1'"
      ]
     },
     "execution_count": 3,
     "metadata": {},
     "output_type": "execute_result"
    }
   ],
   "source": [
    "doubler('test1')"
   ]
  },
  {
   "cell_type": "code",
   "execution_count": 4,
   "metadata": {},
   "outputs": [
    {
     "data": {
      "text/plain": [
       "'test2test2something'"
      ]
     },
     "execution_count": 4,
     "metadata": {},
     "output_type": "execute_result"
    }
   ],
   "source": [
    "signer_doubler = signer(doubler)\n",
    "signer_doubler('test2')"
   ]
  },
  {
   "cell_type": "code",
   "execution_count": 5,
   "metadata": {},
   "outputs": [
    {
     "data": {
      "text/plain": [
       "<function __main__.signer.<locals>.wrapper(to_print)>"
      ]
     },
     "execution_count": 5,
     "metadata": {},
     "output_type": "execute_result"
    }
   ],
   "source": [
    "signer('test1')"
   ]
  },
  {
   "cell_type": "markdown",
   "metadata": {},
   "source": [
    "import ipydeps\n",
    "ipydeps.pip('flask')"
   ]
  },
  {
   "cell_type": "code",
   "execution_count": 15,
   "metadata": {},
   "outputs": [],
   "source": [
    "from flask import Flask\n",
    "# from flask import request, make_response, redirect, url_for\n",
    "app = Flask(__name__)"
   ]
  },
  {
   "cell_type": "code",
   "execution_count": 7,
   "metadata": {},
   "outputs": [],
   "source": [
    "@app.route('/')\n",
    "def Hello():\n",
    "    return('Hello World')"
   ]
  },
  {
   "cell_type": "code",
   "execution_count": 16,
   "metadata": {},
   "outputs": [],
   "source": [
    "from flask import request, make_response, redirect, url_for"
   ]
  },
  {
   "cell_type": "code",
   "execution_count": 17,
   "metadata": {},
   "outputs": [],
   "source": [
    "fruit = {'apple':'red', 'banana':'yellow', 'pear':'brown'}"
   ]
  },
  {
   "cell_type": "code",
   "execution_count": 18,
   "metadata": {},
   "outputs": [
    {
     "data": {
      "text/plain": [
       "'A apple is red<br/>A banana is yellow<br/>A pear is brown'"
      ]
     },
     "execution_count": 18,
     "metadata": {},
     "output_type": "execute_result"
    }
   ],
   "source": [
    "fruit_str = \"<br/>\".join([\"A {} is {}\".format(*i) for i in fruit.items()])\n",
    "fruit_str"
   ]
  },
  {
   "cell_type": "code",
   "execution_count": 19,
   "metadata": {},
   "outputs": [],
   "source": [
    "@app.route('/fruits/')\n",
    "def fruit_list():\n",
    "    fruit_str = \"<br />\".join([\"A {} is {}\".format(*i) for i in fruit.items()])\n",
    "    form_str = \"\"\"<br>Add something:\n",
    "                <form method=\"post\">\n",
    "                <input type=\"text\" name=\"fruit_name\"></input>\n",
    "                <input type=\"text\" name=\"fruit_color\"></input>\n",
    "                \"\"\"\n",
    "    header_str = \"\"\"<html><head><title>Fruitix</title></head><body>\"\"\"\n",
    "    footer_str =\"\"\"</body></html>\"\"\"\n",
    "    return header_str + fruit_str + form_str + footer_str"
   ]
  },
  {
   "cell_type": "code",
   "execution_count": 20,
   "metadata": {},
   "outputs": [],
   "source": [
    "@app.route('/fruits/<name>/')\n",
    "def single_fruit(name):\n",
    "    if name in fruit.keys():\n",
    "        return \"A {} is in {}\".format(name, fruit[name])\n",
    "    else:\n",
    "        return make_response(\"ERROR : FRUIT NOT FOUND\", 404)        "
   ]
  },
  {
   "cell_type": "code",
   "execution_count": 21,
   "metadata": {},
   "outputs": [],
   "source": [
    "@app.route('/fruits/', methods =['POST',])\n",
    "def add_fruit():\n",
    "    print(request.form)\n",
    "    print(request.data)\n",
    "    fruit[request.form['fruit_name']] = request.form['fruit_color']\n",
    "    return redirect(url_for('fruit_list'))"
   ]
  },
  {
   "cell_type": "code",
   "execution_count": 22,
   "metadata": {},
   "outputs": [
    {
     "name": "stdout",
     "output_type": "stream",
     "text": [
      " * Serving Flask app \"__main__\" (lazy loading)\n",
      " * Environment: production\n",
      "\u001b[31m   WARNING: This is a development server. Do not use it in a production deployment.\u001b[0m\n",
      "\u001b[2m   Use a production WSGI server instead.\u001b[0m\n",
      " * Debug mode: off\n"
     ]
    },
    {
     "name": "stderr",
     "output_type": "stream",
     "text": [
      " * Running on http://0.0.0.0:8999/ (Press CTRL+C to quit)\n",
      "127.0.0.1 - - [14/Jul/2020 19:54:40] \"\u001b[33mGET / HTTP/1.1\u001b[0m\" 404 -\n",
      "127.0.0.1 - - [14/Jul/2020 19:54:43] \"\u001b[33mGET / HTTP/1.1\u001b[0m\" 404 -\n"
     ]
    }
   ],
   "source": [
    "app.run(host='0.0.0.0', port=8999)"
   ]
  }
 ],
 "metadata": {
  "kernelspec": {
   "display_name": "Python 3",
   "language": "python",
   "name": "python3"
  },
  "language_info": {
   "codemirror_mode": {
    "name": "ipython",
    "version": 3
   },
   "file_extension": ".py",
   "mimetype": "text/x-python",
   "name": "python",
   "nbconvert_exporter": "python",
   "pygments_lexer": "ipython3",
   "version": "3.7.7"
  }
 },
 "nbformat": 4,
 "nbformat_minor": 4
}
