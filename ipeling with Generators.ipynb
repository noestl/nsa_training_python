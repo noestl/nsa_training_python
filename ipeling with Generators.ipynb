{
 "cells": [
  {
   "cell_type": "markdown",
   "metadata": {},
   "source": [
    "# Pipeling with Generators"
   ]
  },
  {
   "cell_type": "code",
   "execution_count": 9,
   "metadata": {},
   "outputs": [],
   "source": [
    "from pprint import pprint\n",
    "import random"
   ]
  },
  {
   "cell_type": "code",
   "execution_count": 7,
   "metadata": {},
   "outputs": [],
   "source": [
    "def split_float(v):\n",
    "    '''\n",
    "    Takes a float or string of a float \n",
    "    and returns a typle containing the \n",
    "    integer part and the fractional part \n",
    "    of the numeber, as strings, respectively.\n",
    "    '''\n",
    "    v = str(v)\n",
    "    i, f = v.split('.')\n",
    "    return (i, '0.'+f)"
   ]
  },
  {
   "cell_type": "code",
   "execution_count": 11,
   "metadata": {},
   "outputs": [
    {
     "name": "stdout",
     "output_type": "stream",
     "text": [
      "[0.205306025545228,\n",
      " 0.974389131671067,\n",
      " 0.0804369639723,\n",
      " 0.49776031176324,\n",
      " 0.34728916514694,\n",
      " 0.68315415765838,\n",
      " 0.74832856185172,\n",
      " 0.9138839144891007,\n",
      " 0.513100872338017,\n",
      " 0.7812879551373]\n"
     ]
    }
   ],
   "source": [
    "rand_gen = (random.random() * 100 for i in range(10))\n",
    "results = (split_float(r) for r in rand_gen)\n",
    "results = (r[1] for r in results)\n",
    "results = (float(r) for r in results)\n",
    "\n",
    "pprint(list(results))\n"
   ]
  },
  {
   "cell_type": "code",
   "execution_count": 14,
   "metadata": {},
   "outputs": [
    {
     "data": {
      "text/plain": [
       "(['22', '148463869746806'], 22.148463869746806)"
      ]
     },
     "execution_count": 14,
     "metadata": {},
     "output_type": "execute_result"
    }
   ],
   "source": [
    "b=random.random()*100\n",
    "a = str(b).split('.')\n",
    "a,b"
   ]
  },
  {
   "cell_type": "code",
   "execution_count": null,
   "metadata": {},
   "outputs": [],
   "source": []
  }
 ],
 "metadata": {
  "kernelspec": {
   "display_name": "Python 3",
   "language": "python",
   "name": "python3"
  },
  "language_info": {
   "codemirror_mode": {
    "name": "ipython",
    "version": 3
   },
   "file_extension": ".py",
   "mimetype": "text/x-python",
   "name": "python",
   "nbconvert_exporter": "python",
   "pygments_lexer": "ipython3",
   "version": "3.7.6"
  }
 },
 "nbformat": 4,
 "nbformat_minor": 4
}
